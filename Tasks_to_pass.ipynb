{
  "nbformat": 4,
  "nbformat_minor": 0,
  "metadata": {
    "colab": {
      "provenance": [],
      "authorship_tag": "ABX9TyM1juzvxiqd1ArJBdg2sZz7",
      "include_colab_link": true
    },
    "kernelspec": {
      "name": "python3",
      "display_name": "Python 3"
    },
    "language_info": {
      "name": "python"
    }
  },
  "cells": [
    {
      "cell_type": "markdown",
      "metadata": {
        "id": "view-in-github",
        "colab_type": "text"
      },
      "source": [
        "<a href=\"https://colab.research.google.com/github/Komilovv/Python-Tasks/blob/main/Tasks_to_pass.ipynb\" target=\"_parent\"><img src=\"https://colab.research.google.com/assets/colab-badge.svg\" alt=\"Open In Colab\"/></a>"
      ]
    },
    {
      "cell_type": "code",
      "source": [
        "import numpy as np"
      ],
      "metadata": {
        "id": "kuMyT354a2TH"
      },
      "execution_count": null,
      "outputs": []
    },
    {
      "cell_type": "markdown",
      "source": [
        "#### 1. NumPy kutubxonasini `np` nomi ostida yuklang va numpy kutubxonasini chop eting.\n",
        "\n",
        "versiya va konfiguratsiyani tekshiring."
      ],
      "metadata": {
        "id": "1lJScCoaiQFP"
      }
    },
    {
      "cell_type": "code",
      "source": [
        "np.__version__\n",
        "np.show_config()"
      ],
      "metadata": {
        "colab": {
          "base_uri": "https://localhost:8080/"
        },
        "id": "EI4MMsm5hHds",
        "outputId": "bac1b176-4b8f-42a1-f4c6-69bdb95ad52b"
      },
      "execution_count": null,
      "outputs": [
        {
          "output_type": "stream",
          "name": "stdout",
          "text": [
            "openblas64__info:\n",
            "    libraries = ['openblas64_', 'openblas64_']\n",
            "    library_dirs = ['/usr/local/lib']\n",
            "    language = c\n",
            "    define_macros = [('HAVE_CBLAS', None), ('BLAS_SYMBOL_SUFFIX', '64_'), ('HAVE_BLAS_ILP64', None)]\n",
            "    runtime_library_dirs = ['/usr/local/lib']\n",
            "blas_ilp64_opt_info:\n",
            "    libraries = ['openblas64_', 'openblas64_']\n",
            "    library_dirs = ['/usr/local/lib']\n",
            "    language = c\n",
            "    define_macros = [('HAVE_CBLAS', None), ('BLAS_SYMBOL_SUFFIX', '64_'), ('HAVE_BLAS_ILP64', None)]\n",
            "    runtime_library_dirs = ['/usr/local/lib']\n",
            "openblas64__lapack_info:\n",
            "    libraries = ['openblas64_', 'openblas64_']\n",
            "    library_dirs = ['/usr/local/lib']\n",
            "    language = c\n",
            "    define_macros = [('HAVE_CBLAS', None), ('BLAS_SYMBOL_SUFFIX', '64_'), ('HAVE_BLAS_ILP64', None), ('HAVE_LAPACKE', None)]\n",
            "    runtime_library_dirs = ['/usr/local/lib']\n",
            "lapack_ilp64_opt_info:\n",
            "    libraries = ['openblas64_', 'openblas64_']\n",
            "    library_dirs = ['/usr/local/lib']\n",
            "    language = c\n",
            "    define_macros = [('HAVE_CBLAS', None), ('BLAS_SYMBOL_SUFFIX', '64_'), ('HAVE_BLAS_ILP64', None), ('HAVE_LAPACKE', None)]\n",
            "    runtime_library_dirs = ['/usr/local/lib']\n",
            "Supported SIMD extensions in this NumPy install:\n",
            "    baseline = SSE,SSE2,SSE3\n",
            "    found = SSSE3,SSE41,POPCNT,SSE42,AVX,F16C,FMA3,AVX2\n",
            "    not found = AVX512F,AVX512CD,AVX512_KNL,AVX512_KNM,AVX512_SKX,AVX512_CLX,AVX512_CNL,AVX512_ICL\n"
          ]
        }
      ]
    },
    {
      "cell_type": "markdown",
      "source": [
        "#### 2. Raqamli qiymatlar ro'yxatini bir o'lchovli NumPy massiviga aylantiring!"
      ],
      "metadata": {
        "id": "uOjzAle5jxRo"
      }
    },
    {
      "cell_type": "code",
      "source": [
        "list = [54564,45,44564,-487]\n",
        "list_arr = np.array(list)\n",
        "list_arr"
      ],
      "metadata": {
        "colab": {
          "base_uri": "https://localhost:8080/"
        },
        "id": "2WL1wR1Rhpsb",
        "outputId": "770cb471-3388-48ae-e0b2-f9fb9697a745"
      },
      "execution_count": null,
      "outputs": [
        {
          "output_type": "execute_result",
          "data": {
            "text/plain": [
              "array([54564,    45, 44564,  -487])"
            ]
          },
          "metadata": {},
          "execution_count": 18
        }
      ]
    },
    {
      "cell_type": "markdown",
      "source": [
        "#### 3. Qiymatlari noldan iborat bo'lgan to'qqiz o'lchovli massiv yarating.\n",
        "\n"
      ],
      "metadata": {
        "id": "S51Ukap1kXRW"
      }
    },
    {
      "cell_type": "code",
      "source": [
        "zero_9 = np.zeros(9)\n",
        "zero_9"
      ],
      "metadata": {
        "colab": {
          "base_uri": "https://localhost:8080/"
        },
        "id": "KY_UV39YkJPX",
        "outputId": "23b55054-6667-4700-94d0-1fe53d2cb1f9"
      },
      "execution_count": null,
      "outputs": [
        {
          "output_type": "execute_result",
          "data": {
            "text/plain": [
              "array([0., 0., 0., 0., 0., 0., 0., 0., 0.])"
            ]
          },
          "metadata": {},
          "execution_count": 20
        }
      ]
    },
    {
      "cell_type": "markdown",
      "source": [
        "#### 4. Massiv yarating va uning xotira hajmini toping.\n",
        "\n"
      ],
      "metadata": {
        "id": "N0iY59yIkxwW"
      }
    },
    {
      "cell_type": "code",
      "source": [
        "arr1 = np.array(['Hidoyat','Najot','Mag`firat','Saodat','Muhabbat','Sakinat','Ilm','Nusrat','Rahmat','Darojat',100,99,63])\n",
        "arr1_size = arr1.nbytes\n",
        "arr1_size"
      ],
      "metadata": {
        "colab": {
          "base_uri": "https://localhost:8080/"
        },
        "id": "CPY2Wk8jkqV7",
        "outputId": "91061b0f-e489-4d2b-86ce-7673657db61b"
      },
      "execution_count": null,
      "outputs": [
        {
          "output_type": "execute_result",
          "data": {
            "text/plain": [
              "1092"
            ]
          },
          "metadata": {},
          "execution_count": 45
        }
      ]
    },
    {
      "cell_type": "markdown",
      "source": [
        "#### 5. NumPy kutubxonasidagi add funksiyasi hujjatlarini buyruq satridan qanday olishi mumkin?\n"
      ],
      "metadata": {
        "id": "5BlSGTa6ppgH"
      }
    },
    {
      "cell_type": "code",
      "source": [
        "np.info(np.add)"
      ],
      "metadata": {
        "colab": {
          "base_uri": "https://localhost:8080/"
        },
        "id": "CaS-gzjDmUlq",
        "outputId": "615f7389-d493-48ec-f1ae-85a18085a8f7"
      },
      "execution_count": null,
      "outputs": [
        {
          "output_type": "stream",
          "name": "stdout",
          "text": [
            "add(x1, x2, /, out=None, *, where=True, casting='same_kind', order='K', dtype=None, subok=True[, signature, extobj])\n",
            "\n",
            "Add arguments element-wise.\n",
            "\n",
            "Parameters\n",
            "----------\n",
            "x1, x2 : array_like\n",
            "    The arrays to be added.\n",
            "    If ``x1.shape != x2.shape``, they must be broadcastable to a common\n",
            "    shape (which becomes the shape of the output).\n",
            "out : ndarray, None, or tuple of ndarray and None, optional\n",
            "    A location into which the result is stored. If provided, it must have\n",
            "    a shape that the inputs broadcast to. If not provided or None,\n",
            "    a freshly-allocated array is returned. A tuple (possible only as a\n",
            "    keyword argument) must have length equal to the number of outputs.\n",
            "where : array_like, optional\n",
            "    This condition is broadcast over the input. At locations where the\n",
            "    condition is True, the `out` array will be set to the ufunc result.\n",
            "    Elsewhere, the `out` array will retain its original value.\n",
            "    Note that if an uninitialized `out` array is created via the default\n",
            "    ``out=None``, locations within it where the condition is False will\n",
            "    remain uninitialized.\n",
            "**kwargs\n",
            "    For other keyword-only arguments, see the\n",
            "    :ref:`ufunc docs <ufuncs.kwargs>`.\n",
            "\n",
            "Returns\n",
            "-------\n",
            "add : ndarray or scalar\n",
            "    The sum of `x1` and `x2`, element-wise.\n",
            "    This is a scalar if both `x1` and `x2` are scalars.\n",
            "\n",
            "Notes\n",
            "-----\n",
            "Equivalent to `x1` + `x2` in terms of array broadcasting.\n",
            "\n",
            "Examples\n",
            "--------\n",
            ">>> np.add(1.0, 4.0)\n",
            "5.0\n",
            ">>> x1 = np.arange(9.0).reshape((3, 3))\n",
            ">>> x2 = np.arange(3.0)\n",
            ">>> np.add(x1, x2)\n",
            "array([[  0.,   2.,   4.],\n",
            "       [  3.,   5.,   7.],\n",
            "       [  6.,   8.,  10.]])\n",
            "\n",
            "The ``+`` operator can be used as a shorthand for ``np.add`` on ndarrays.\n",
            "\n",
            ">>> x1 = np.arange(9.0).reshape((3, 3))\n",
            ">>> x2 = np.arange(3.0)\n",
            ">>> x1 + x2\n",
            "array([[ 0.,  2.,  4.],\n",
            "       [ 3.,  5.,  7.],\n",
            "       [ 6.,  8., 10.]])\n"
          ]
        }
      ]
    },
    {
      "cell_type": "markdown",
      "source": [
        "#### 6. Shunday vekor yaratingki u o'n ikki o'lchamda va qiymatlari noldan iborat bo'lsin, lekin vektorning oltinchi qiymati 1 ga teng bo'lsin.\n",
        "\n"
      ],
      "metadata": {
        "id": "cEFEzVvrtbrV"
      }
    },
    {
      "cell_type": "code",
      "source": [
        "arr2 = np.zeros(12)\n",
        "arr2[5] = 1\n",
        "arr2"
      ],
      "metadata": {
        "colab": {
          "base_uri": "https://localhost:8080/"
        },
        "id": "tWu8_rsTtZa4",
        "outputId": "655bb9d2-f4aa-4f2c-e32e-833c3253922e"
      },
      "execution_count": null,
      "outputs": [
        {
          "output_type": "execute_result",
          "data": {
            "text/plain": [
              "array([0., 0., 0., 0., 0., 1., 0., 0., 0., 0., 0., 0.])"
            ]
          },
          "metadata": {},
          "execution_count": 46
        }
      ]
    },
    {
      "cell_type": "markdown",
      "source": [
        "#### 7. Qiymatlari 20 dan 59 gacha bo'lgan vektor yarating.\n",
        "\n"
      ],
      "metadata": {
        "id": "3JzfV73euNJN"
      }
    },
    {
      "cell_type": "code",
      "source": [
        "vec = np.arange(20,59)\n",
        "vec"
      ],
      "metadata": {
        "colab": {
          "base_uri": "https://localhost:8080/"
        },
        "id": "_U2R83EBuJ5l",
        "outputId": "5fbb71d8-ad87-4c11-808f-c73cda31d5da"
      },
      "execution_count": null,
      "outputs": [
        {
          "output_type": "execute_result",
          "data": {
            "text/plain": [
              "array([20, 21, 22, 23, 24, 25, 26, 27, 28, 29, 30, 31, 32, 33, 34, 35, 36,\n",
              "       37, 38, 39, 40, 41, 42, 43, 44, 45, 46, 47, 48, 49, 50, 51, 52, 53,\n",
              "       54, 55, 56, 57, 58])"
            ]
          },
          "metadata": {},
          "execution_count": 31
        }
      ]
    },
    {
      "cell_type": "markdown",
      "source": [
        "#### 8. Vektor yarating va uni teskari o'zgartiring\n",
        "(birinchi element oxirgisi bo'lsin)\n",
        "\n"
      ],
      "metadata": {
        "id": "vyPUqadZuhJL"
      }
    },
    {
      "cell_type": "code",
      "source": [
        "vec1 = np.array([78,5168,4457,-873])\n",
        "vec1_rev = np.flip(vec1)\n",
        "vec1_rev"
      ],
      "metadata": {
        "colab": {
          "base_uri": "https://localhost:8080/"
        },
        "id": "e_edWLvNucnl",
        "outputId": "69430521-b752-43d2-f07a-200d994d6678"
      },
      "execution_count": null,
      "outputs": [
        {
          "output_type": "execute_result",
          "data": {
            "text/plain": [
              "array([-873, 4457, 5168,   78])"
            ]
          },
          "metadata": {},
          "execution_count": 47
        }
      ]
    },
    {
      "cell_type": "markdown",
      "source": [
        "#### 9. 12 dan 20 gacha bo'lgan qiymatlarga ega 3x3 matritsa yarating.\n"
      ],
      "metadata": {
        "id": "nut6XDHYvS8r"
      }
    },
    {
      "cell_type": "code",
      "source": [
        "mat = np.arange(12,21).reshape(3,3)\n",
        "mat"
      ],
      "metadata": {
        "colab": {
          "base_uri": "https://localhost:8080/"
        },
        "id": "un_rfdIzvGj6",
        "outputId": "f95978c7-94f3-4d9f-8cf7-8921af5ad181"
      },
      "execution_count": null,
      "outputs": [
        {
          "output_type": "execute_result",
          "data": {
            "text/plain": [
              "array([[12, 13, 14],\n",
              "       [15, 16, 17],\n",
              "       [18, 19, 20]])"
            ]
          },
          "metadata": {},
          "execution_count": 36
        }
      ]
    },
    {
      "cell_type": "markdown",
      "source": [
        "#### 10. Quyidagi matritsadan foydalanib nolga teng bo'lmagan elementlarning indekslarini toping.\n",
        "[3, 7, 0, 0, 9, 0]\n",
        "\n",
        "\n",
        "\n"
      ],
      "metadata": {
        "id": "7CEav0Ihvxrf"
      }
    },
    {
      "cell_type": "code",
      "source": [
        "arr3 = np.array([3, 7, 0, 0, 9, 0])\n",
        "print(np.nonzero(arr3))"
      ],
      "metadata": {
        "colab": {
          "base_uri": "https://localhost:8080/"
        },
        "id": "yUbWDssJvrxC",
        "outputId": "4f42c673-6002-49a9-903d-331a94bc104f"
      },
      "execution_count": null,
      "outputs": [
        {
          "output_type": "stream",
          "name": "stdout",
          "text": [
            "(array([0, 1, 4]),)\n"
          ]
        }
      ]
    },
    {
      "cell_type": "markdown",
      "source": [
        "#### 11. Tasodifiy qiymatlar bilan 2x2x2 o'lchovidagi massiv yarating.\n"
      ],
      "metadata": {
        "id": "nvIPCZjzweRy"
      }
    },
    {
      "cell_type": "code",
      "source": [
        "arr4 = np.random.random(8)\n",
        "arr4.reshape(2,2,2)"
      ],
      "metadata": {
        "colab": {
          "base_uri": "https://localhost:8080/"
        },
        "id": "j0gkKKiEwVYf",
        "outputId": "e9646ba8-7fac-47ff-bcfa-fa6ea230df53"
      },
      "execution_count": null,
      "outputs": [
        {
          "output_type": "execute_result",
          "data": {
            "text/plain": [
              "array([[[0.14037144, 0.4362253 ],\n",
              "        [0.10919312, 0.05189093]],\n",
              "\n",
              "       [[0.86488251, 0.57648135],\n",
              "        [0.36571727, 0.22140046]]])"
            ]
          },
          "metadata": {},
          "execution_count": 42
        }
      ]
    },
    {
      "cell_type": "markdown",
      "source": [
        "#### 12. Tasodifiy sonlardan tashkil topgan 9X9 o'lchamidagi massiv yarating. So'ng uning eng katta va eng kichik qiymatlarini toping\n"
      ],
      "metadata": {
        "id": "adUfuHX_xc6p"
      }
    },
    {
      "cell_type": "code",
      "source": [
        "arr5 = np.random.randn(9,9)\n",
        "print(np.max(arr5),'\\n',np.min(arr5))"
      ],
      "metadata": {
        "colab": {
          "base_uri": "https://localhost:8080/"
        },
        "id": "ZViaKgXIw-En",
        "outputId": "28fec7c1-0e56-432a-cacb-d16bcf7767ec"
      },
      "execution_count": null,
      "outputs": [
        {
          "output_type": "stream",
          "name": "stdout",
          "text": [
            "1.9472667985808025 \n",
            " -2.042912818442727\n"
          ]
        }
      ]
    },
    {
      "cell_type": "markdown",
      "source": [
        "#### 13. Quyidagi misol qanday natija beradi?\n",
        "\n",
        "\n",
        "```python\n",
        "0 * np.nan\n",
        "np.nan == np.nan\n",
        "np.inf > np.nan\n",
        "np.nan - np.nan\n",
        "np.nan in set([np.nan])\n",
        "0.7 == 7 * 0.1\n",
        "```\n"
      ],
      "metadata": {
        "id": "TlBGz3HW44rZ"
      }
    },
    {
      "cell_type": "code",
      "source": [
        "0 * np.nan\n",
        "np.nan == np.nan\n",
        "np.inf > np.nan\n",
        "np.nan - np.nan\n",
        "np.nan in set([np.nan])\n",
        "0.7 == 7 * 0.1"
      ],
      "metadata": {
        "colab": {
          "base_uri": "https://localhost:8080/"
        },
        "id": "IjKbkg70zBpK",
        "outputId": "70893cae-8f80-4f59-c0aa-05fadbd44092"
      },
      "execution_count": null,
      "outputs": [
        {
          "output_type": "execute_result",
          "data": {
            "text/plain": [
              "False"
            ]
          },
          "metadata": {},
          "execution_count": 62
        }
      ]
    },
    {
      "cell_type": "markdown",
      "source": [
        "#### 14. O'lchamlari 6x3 va 3x4 bo'lgan martitsa yarating, so'ng ularning  ko'paytmasini hisoblang.\n",
        "\n"
      ],
      "metadata": {
        "id": "vV-gXFaq6QcD"
      }
    },
    {
      "cell_type": "code",
      "source": [
        "mat1 = np.random.randn(6,3)\n",
        "mat2 = np.random.randn(3,4)\n",
        "print(np.dot(mat1,mat2))"
      ],
      "metadata": {
        "colab": {
          "base_uri": "https://localhost:8080/"
        },
        "id": "mlhMSynL5uRt",
        "outputId": "9949736d-82fb-4057-8587-3de89e8b07a6"
      },
      "execution_count": null,
      "outputs": [
        {
          "output_type": "stream",
          "name": "stdout",
          "text": [
            "[[-1.96817927  0.45566796  0.96163834 -1.76868377]\n",
            " [ 0.74181554 -1.58228458 -1.13696423 -1.94626734]\n",
            " [ 1.4435409  -0.67474183 -1.42674905  0.28460471]\n",
            " [ 1.05911313 -0.54940566 -1.02994069  0.14148698]\n",
            " [ 0.66571129 -0.41051569 -0.20405918  0.3104504 ]\n",
            " [-2.44892185  0.51402912  1.01568964 -2.40718245]]\n"
          ]
        }
      ]
    },
    {
      "cell_type": "markdown",
      "source": [
        "#### 15. Quyidagi misol qanday natija beradi?\n",
        "\n",
        "```python\n",
        "print(sum(range(5),-1))\n",
        "from numpy import *\n",
        "print(sum(range(5),-1))\n",
        "```"
      ],
      "metadata": {
        "id": "eS31uxY68YsE"
      }
    },
    {
      "cell_type": "code",
      "source": [
        "print(sum(range(5),-1))\n",
        "from numpy import *\n",
        "print(sum(range(5),-1))"
      ],
      "metadata": {
        "colab": {
          "base_uri": "https://localhost:8080/"
        },
        "id": "Pje9jqujzjfn",
        "outputId": "68d325e0-4494-4ca0-c5ab-1bd0b4f39f22"
      },
      "execution_count": null,
      "outputs": [
        {
          "output_type": "stream",
          "name": "stdout",
          "text": [
            "9\n",
            "10\n"
          ]
        }
      ]
    },
    {
      "cell_type": "markdown",
      "source": [
        "#### 16. NumPy kutubxonasi yordamida ikkita massivni solishtiring va ular usida quyidagi amallarni bajaring.\n",
        "\n",
        "```python\n",
        "Array a: [1 2]\n",
        "Array b: [4 5]\n",
        "a > b\n",
        "[False False]\n",
        "a >= b\n",
        "[False False]\n",
        "a < b\n",
        "[ True True]\n",
        "a <= b\n",
        "[ True True]\n",
        "```"
      ],
      "metadata": {
        "id": "ofiOZ0ct9Zzc"
      }
    },
    {
      "cell_type": "code",
      "source": [
        "x = np.array([12,548,18469,1,-1999])\n",
        "y = np.array([-12,548,18469,898,472])\n",
        "print(x > y, x < y, x <= y, x >= y)\n"
      ],
      "metadata": {
        "colab": {
          "base_uri": "https://localhost:8080/"
        },
        "id": "IGb7zKZE9Yvw",
        "outputId": "dbc9f93c-74b0-4ff5-9501-19763e457c64"
      },
      "execution_count": null,
      "outputs": [
        {
          "output_type": "stream",
          "name": "stdout",
          "text": [
            "[ True False False False False] [False False False  True  True] [False  True  True  True  True] [ True  True  True False False]\n"
          ]
        }
      ]
    },
    {
      "cell_type": "markdown",
      "source": [
        "#### 17. Quyidagi misol qanday natija beradi?\n",
        "\n",
        "```python\n",
        "np.array(0) / np.array(0)\n",
        "np.array(0) // np.array(0)\n",
        "np.array([np.nan]).astype(int).astype(float)\n",
        "```"
      ],
      "metadata": {
        "id": "4tJTEq12AB_f"
      }
    },
    {
      "cell_type": "code",
      "source": [
        "np.array(0) / np.array(0)\n",
        "np.array(0) // np.array(0)\n",
        "np.array([np.nan]).astype(int).astype(float)"
      ],
      "metadata": {
        "colab": {
          "base_uri": "https://localhost:8080/"
        },
        "id": "uIcuq8J-_OFj",
        "outputId": "320a5230-0b82-48a7-ce27-cc445e1872be"
      },
      "execution_count": null,
      "outputs": [
        {
          "output_type": "stream",
          "name": "stderr",
          "text": [
            "<ipython-input-68-cd809174da5d>:1: RuntimeWarning: invalid value encountered in divide\n",
            "  np.array(0) / np.array(0)\n",
            "<ipython-input-68-cd809174da5d>:2: RuntimeWarning: divide by zero encountered in floor_divide\n",
            "  np.array(0) // np.array(0)\n",
            "<ipython-input-68-cd809174da5d>:3: RuntimeWarning: invalid value encountered in cast\n",
            "  np.array([np.nan]).astype(int).astype(float)\n"
          ]
        },
        {
          "output_type": "execute_result",
          "data": {
            "text/plain": [
              "array([-9.22337204e+18])"
            ]
          },
          "metadata": {},
          "execution_count": 68
        }
      ]
    },
    {
      "cell_type": "markdown",
      "source": [
        "#### 18. Ikkita massiv yarating va ular orasidagi umumiy qiymatlarni toping\n"
      ],
      "metadata": {
        "id": "KcEd1tc_A4LK"
      }
    },
    {
      "cell_type": "code",
      "source": [
        "mass = np.arange(8,127,3)\n",
        "mass1 = np.arange(4,99,2)\n",
        "print(np.intersect1d(mass,mass1))"
      ],
      "metadata": {
        "colab": {
          "base_uri": "https://localhost:8080/"
        },
        "id": "msjcGqjVA8nY",
        "outputId": "8de45e90-e146-4921-9671-0c6c25d8d044"
      },
      "execution_count": null,
      "outputs": [
        {
          "output_type": "stream",
          "name": "stdout",
          "text": [
            "[ 8 14 20 26 32 38 44 50 56 62 68 74 80 86 92 98]\n"
          ]
        }
      ]
    },
    {
      "cell_type": "markdown",
      "source": [
        "#### 19. Tasodifiy sonlardan iborat bo'lgan massiv yarating, so'ng ularni quyida berilgan 4 xil usul yordamida musbat sonlarning butun qismini ajratib oling.\n",
        "\n",
        "%, np.floor, astype, np.trunc\n"
      ],
      "metadata": {
        "id": "zJYrZPAuCoPi"
      }
    },
    {
      "cell_type": "code",
      "source": [
        "mas = np.random.randn(10)\n"
      ],
      "metadata": {
        "id": "shhnd4lkCVnO"
      },
      "execution_count": null,
      "outputs": []
    },
    {
      "cell_type": "code",
      "source": [
        "mas_int = (mas - mas%1)\n",
        "mas_pos = mas_int[mas_int > 0]\n",
        "mas_pos"
      ],
      "metadata": {
        "colab": {
          "base_uri": "https://localhost:8080/"
        },
        "id": "p5mxfaUGDVft",
        "outputId": "62069234-1a21-4715-bcf9-9cfed6ec02b9"
      },
      "execution_count": null,
      "outputs": [
        {
          "output_type": "execute_result",
          "data": {
            "text/plain": [
              "array([1., 2., 1.])"
            ]
          },
          "metadata": {},
          "execution_count": 103
        }
      ]
    },
    {
      "cell_type": "code",
      "source": [
        "mas_int1 = np.floor(mas)\n",
        "mas_pos1 = mas_int1[mas_int1 >0]\n",
        "mas_pos1\n"
      ],
      "metadata": {
        "colab": {
          "base_uri": "https://localhost:8080/"
        },
        "id": "Wr80Pxf_FzbK",
        "outputId": "c3b61840-2731-4cde-bf08-1a398b1900ff"
      },
      "execution_count": null,
      "outputs": [
        {
          "output_type": "execute_result",
          "data": {
            "text/plain": [
              "array([1., 2., 1.])"
            ]
          },
          "metadata": {},
          "execution_count": 104
        }
      ]
    },
    {
      "cell_type": "code",
      "source": [
        "mas_int2 = mas.astype(int)\n",
        "mas_pos2 = mas_int2[mas_int2>0]\n",
        "mas_pos2"
      ],
      "metadata": {
        "colab": {
          "base_uri": "https://localhost:8080/"
        },
        "id": "aWkOvO3HLqJn",
        "outputId": "b19058ed-f2fe-4d46-9e4d-85749e4bd6a8"
      },
      "execution_count": null,
      "outputs": [
        {
          "output_type": "execute_result",
          "data": {
            "text/plain": [
              "array([1, 2, 1])"
            ]
          },
          "metadata": {},
          "execution_count": 105
        }
      ]
    },
    {
      "cell_type": "code",
      "source": [
        "mas_int3 = np.trunc(mas)\n",
        "mas_pos3 = mas_int3[mas_int3 >0]\n",
        "mas_pos3"
      ],
      "metadata": {
        "colab": {
          "base_uri": "https://localhost:8080/"
        },
        "id": "QL6RK3JuODII",
        "outputId": "b31cbbef-838e-40ee-90d8-d4a04d912224"
      },
      "execution_count": null,
      "outputs": [
        {
          "output_type": "execute_result",
          "data": {
            "text/plain": [
              "array([1., 2., 1.])"
            ]
          },
          "metadata": {},
          "execution_count": 106
        }
      ]
    },
    {
      "cell_type": "markdown",
      "source": [
        "#### 20. O'lchovlari 3x3 matritsa yarating, ularning qator qiymatlari 0 dan 2 gacha bo'lsin.\n",
        "\n"
      ],
      "metadata": {
        "id": "csQPZ8iRTrJt"
      }
    },
    {
      "cell_type": "code",
      "source": [
        "mat = np.arange(9).reshape(3,3)% 3\n",
        "mat        # To'g'risi GPT o'rgatdi"
      ],
      "metadata": {
        "id": "IRjTadKpOU2R",
        "colab": {
          "base_uri": "https://localhost:8080/"
        },
        "outputId": "4329e8c3-aa4b-4af9-8e52-8c3ee06f55bc"
      },
      "execution_count": null,
      "outputs": [
        {
          "output_type": "execute_result",
          "data": {
            "text/plain": [
              "array([[0, 1, 2],\n",
              "       [0, 1, 2],\n",
              "       [0, 1, 2]])"
            ]
          },
          "metadata": {},
          "execution_count": 5
        }
      ]
    },
    {
      "cell_type": "markdown",
      "source": [
        "#### 21. O'chamlari 10 bo'lgan tasodifiy vektor yarating va uni o'sish tartibida chiqaruvchi dastur tuzing.\n",
        "\n"
      ],
      "metadata": {
        "id": "m0v3pl6J5We_"
      }
    },
    {
      "cell_type": "code",
      "source": [
        "vec2 = np.random.randint(10,size=(5))\n",
        "s_vec2 = np.sort(vec2)\n",
        "s_vec2"
      ],
      "metadata": {
        "colab": {
          "base_uri": "https://localhost:8080/"
        },
        "id": "8_RpCL65VSff",
        "outputId": "7f1d768b-5994-4db2-e961-e2f20ef899ca"
      },
      "execution_count": null,
      "outputs": [
        {
          "output_type": "execute_result",
          "data": {
            "text/plain": [
              "array([3, 4, 4, 5, 9])"
            ]
          },
          "metadata": {},
          "execution_count": 6
        }
      ]
    },
    {
      "cell_type": "markdown",
      "source": [
        "#### 22. Ikki tasodifiy A va B massiv yarating, ularning tengligini tekshiring"
      ],
      "metadata": {
        "id": "Wxbe6RzV6wSg"
      }
    },
    {
      "cell_type": "code",
      "source": [
        "x = np.random.randn(2,3)\n",
        "y = np.random.randn(2,3)\n",
        "print(x==y)\n",
        "print(np.equal(x,y))"
      ],
      "metadata": {
        "colab": {
          "base_uri": "https://localhost:8080/"
        },
        "id": "0BvUK2uH5_Rk",
        "outputId": "6f2c5c24-144c-4d68-bfb4-7a11ffb8c674"
      },
      "execution_count": null,
      "outputs": [
        {
          "output_type": "stream",
          "name": "stdout",
          "text": [
            "[[False False False]\n",
            " [False False False]]\n",
            "[[False False False]\n",
            " [False False False]]\n"
          ]
        }
      ]
    },
    {
      "cell_type": "markdown",
      "source": [
        "#### 23. O'lchamlari 6x3 va 3x4 matritsa tuzing va ularni o'zaro ko'paytiring.\n"
      ],
      "metadata": {
        "id": "XrmyUm628NOP"
      }
    },
    {
      "cell_type": "code",
      "source": [
        "a = np.random.randn(6,3)\n",
        "b = np.random.randn(3,4)\n",
        "axb = np.dot(a,b)\n",
        "axb"
      ],
      "metadata": {
        "colab": {
          "base_uri": "https://localhost:8080/"
        },
        "id": "0ZGzukkT7qd_",
        "outputId": "3c734fa3-ef42-4740-a67e-7401bd21128e"
      },
      "execution_count": null,
      "outputs": [
        {
          "output_type": "execute_result",
          "data": {
            "text/plain": [
              "array([[ 0.02260383,  0.66471645,  0.02863   ,  0.2390288 ],\n",
              "       [-1.81344779, -0.87835058,  2.90501729, -4.74879734],\n",
              "       [-1.77773096, -1.60639623, -0.57647163, -2.65374574],\n",
              "       [-0.71075428, -0.1604247 ,  1.82824197, -2.25285946],\n",
              "       [-1.50968208, -1.7627585 , -0.29589359, -2.51682738],\n",
              "       [-0.90805572, -1.46051428, -0.33642883, -1.54572364]])"
            ]
          },
          "metadata": {},
          "execution_count": 12
        }
      ]
    },
    {
      "cell_type": "markdown",
      "source": [
        "#### 24. Tasodifiy sonlardan iborat bo'lgan o'lchami 5 ga teng vektor yarating, so'ng uning eng katta qiymatini 0 ga o'zgartiring.\n"
      ],
      "metadata": {
        "id": "60nz2RC19F6n"
      }
    },
    {
      "cell_type": "code",
      "source": [
        "vec3 = np.random.randn(5)\n",
        "vec3"
      ],
      "metadata": {
        "colab": {
          "base_uri": "https://localhost:8080/"
        },
        "id": "SNW2kDI09C3p",
        "outputId": "d6687b67-3c4f-40a5-9fa1-b77a160d0d51"
      },
      "execution_count": null,
      "outputs": [
        {
          "output_type": "execute_result",
          "data": {
            "text/plain": [
              "array([ 0.36654613,  0.10347911, -0.99381147, -2.48261819, -1.52542219])"
            ]
          },
          "metadata": {},
          "execution_count": 23
        }
      ]
    },
    {
      "cell_type": "code",
      "source": [
        "sd=vec3.argmax()\n",
        "vec3[sd] = 0\n",
        "vec3"
      ],
      "metadata": {
        "colab": {
          "base_uri": "https://localhost:8080/"
        },
        "id": "V051lPtg9ZKy",
        "outputId": "3d1176d1-3e8d-4df5-f814-99ea44841e69"
      },
      "execution_count": null,
      "outputs": [
        {
          "output_type": "execute_result",
          "data": {
            "text/plain": [
              "array([ 0.        ,  0.10347911, -0.99381147, -2.48261819, -1.52542219])"
            ]
          },
          "metadata": {},
          "execution_count": 24
        }
      ]
    },
    {
      "cell_type": "markdown",
      "source": [
        "#### 25. NumPy kutubxonasi yordamida kecha, bugun va ertangi kun sanalarini aniqlang.\n"
      ],
      "metadata": {
        "id": "QAJhtfIf-gzg"
      }
    },
    {
      "cell_type": "code",
      "source": [
        "today = np.datetime64('today')\n",
        "yesterday = today-1\n",
        "tomorrow = today+1\n",
        "print(\"Bugun:\",  today,'\\n',\n",
        "      \"Kecha:\",  yesterday,'\\n',\n",
        "      \"Erta:\",  tomorrow)"
      ],
      "metadata": {
        "colab": {
          "base_uri": "https://localhost:8080/"
        },
        "id": "ea5Bk2Yd-s0Q",
        "outputId": "981fab6a-d9fb-4f2f-eb58-f11a133f8409"
      },
      "execution_count": null,
      "outputs": [
        {
          "output_type": "stream",
          "name": "stdout",
          "text": [
            "Bugun: 2024-06-06 \n",
            " Kecha: 2024-06-05 \n",
            " Erta: 2024-06-07\n"
          ]
        }
      ]
    },
    {
      "cell_type": "markdown",
      "source": [
        "#### 26. 2016 yil yanvar oyiga to'g'ri keladigan barcha sanalarni NumPy kutubxonasi yordamida aniqlang.\n",
        "`💡Ishora` np.arange(dtype=datetime64['D'])"
      ],
      "metadata": {
        "id": "KIUgUCGPCYEH"
      }
    },
    {
      "cell_type": "code",
      "source": [
        "s_date = np.datetime64(\"2016-01-01\")\n",
        "e_date = np.datetime64(\"2016-02-01\")\n",
        "all = np.arange(s_date,e_date)\n",
        "all"
      ],
      "metadata": {
        "colab": {
          "base_uri": "https://localhost:8080/"
        },
        "id": "V1qKrw68Cc1J",
        "outputId": "6ac5a1c9-49fd-4948-9369-6a84b87077ce"
      },
      "execution_count": null,
      "outputs": [
        {
          "output_type": "execute_result",
          "data": {
            "text/plain": [
              "array(['2016-01-01', '2016-01-02', '2016-01-03', '2016-01-04',\n",
              "       '2016-01-05', '2016-01-06', '2016-01-07', '2016-01-08',\n",
              "       '2016-01-09', '2016-01-10', '2016-01-11', '2016-01-12',\n",
              "       '2016-01-13', '2016-01-14', '2016-01-15', '2016-01-16',\n",
              "       '2016-01-17', '2016-01-18', '2016-01-19', '2016-01-20',\n",
              "       '2016-01-21', '2016-01-22', '2016-01-23', '2016-01-24',\n",
              "       '2016-01-25', '2016-01-26', '2016-01-27', '2016-01-28',\n",
              "       '2016-01-29', '2016-01-30', '2016-01-31'], dtype='datetime64[D]')"
            ]
          },
          "metadata": {},
          "execution_count": 36
        }
      ]
    },
    {
      "cell_type": "markdown",
      "source": [
        "#### 27. 4 xil usul yordamida musbat sonlarning tasodifiy massivining butun son qismini ajratib oling.\n"
      ],
      "metadata": {
        "id": "QCrYnkNdFdui"
      }
    },
    {
      "cell_type": "code",
      "source": [
        "# 19 - savol bilan bir xil"
      ],
      "metadata": {
        "id": "WBr_EfTQFIA-"
      },
      "execution_count": null,
      "outputs": []
    },
    {
      "cell_type": "markdown",
      "source": [
        "#### 28. Ixtiyoriy kichik massivlar yarating, ular yeg'indisini np.sum funksiyasidanda tezroq hisoblovchi dastur tuzing.\n"
      ],
      "metadata": {
        "id": "7n5ZQH_mKyhx"
      }
    },
    {
      "cell_type": "code",
      "source": [
        "a = np.random.randn(19)\n",
        "b = np.random.randn(19)\n",
        "c = np.random.randn(19)\n",
        "sum = np.add(a,b,c)\n",
        "sum"
      ],
      "metadata": {
        "colab": {
          "base_uri": "https://localhost:8080/"
        },
        "id": "l5QDOIrwK1LZ",
        "outputId": "c138d37f-cdab-4a67-9e1f-de1c49db02b3"
      },
      "execution_count": null,
      "outputs": [
        {
          "output_type": "execute_result",
          "data": {
            "text/plain": [
              "array([ 0.74915581,  0.76075489,  1.60772165,  0.18934805, -0.2316136 ,\n",
              "       -1.98707034,  0.59426874,  1.07928514, -1.09040968, -0.5199641 ,\n",
              "        1.45537423, -1.29945354, -0.64802298,  0.91035904, -0.23917983,\n",
              "        0.01985563,  0.23453806, -2.2624846 ,  1.09706341])"
            ]
          },
          "metadata": {},
          "execution_count": 3
        }
      ]
    },
    {
      "cell_type": "code",
      "source": [
        "np.add.reduce(a)\n"
      ],
      "metadata": {
        "colab": {
          "base_uri": "https://localhost:8080/"
        },
        "id": "F7SEnGEQMgAV",
        "outputId": "e9558032-e3b3-4ca8-ee25-7280f519010e"
      },
      "execution_count": null,
      "outputs": [
        {
          "output_type": "execute_result",
          "data": {
            "text/plain": [
              "-2.0178205783801664"
            ]
          },
          "metadata": {},
          "execution_count": 4
        }
      ]
    },
    {
      "cell_type": "markdown",
      "source": [
        "#### 29. [1, 2, 3, 4, 5] vektor berilgan, har bir qiymat orasiga ketma-ket 3 ta nol raqamini yozuvchi dastur tuzing.\n",
        "`💡Ishora` array[::4]"
      ],
      "metadata": {
        "id": "fZJR0ZJ3PvdA"
      }
    },
    {
      "cell_type": "code",
      "source": [
        "import numpy as np\n",
        "\n",
        "# Asl vektor\n",
        "vektor = np.array([1, 2, 3, 4, 5])\n",
        "\n",
        "# Har bir element orasiga 3 ta nol qo'shish uchun yangi vektor yaratamiz\n",
        "yangi_vektor = np.zeros(len(vektor) * 4 - 3, dtype=int)  # (len(vektor) - 1) * (1 + 3) + 1\n",
        "yangi_vektor[::4] = vektor\n",
        "\n",
        "print(yangi_vektor)\n",
        "#The code had been written by GPT"
      ],
      "metadata": {
        "id": "EfTFNCdCPC1W",
        "colab": {
          "base_uri": "https://localhost:8080/"
        },
        "outputId": "4ac220c4-89f5-4f37-d6c4-c44c04a47047"
      },
      "execution_count": null,
      "outputs": [
        {
          "output_type": "stream",
          "name": "stdout",
          "text": [
            "[1 0 0 0 2 0 0 0 3 0 0 0 4 0 0 0 5]\n"
          ]
        }
      ]
    },
    {
      "cell_type": "markdown",
      "source": [
        "#### 30. Quyidagi a massiv berilgan, a = [1,2,3,4,5,6,7,8,9,10,11,12,13,14] undan foydalangan holda siz quyidagi b massivni yarata olasizmi, b = [[1,2,3,4], [2,3,4,5], [3,4,5,6], ..., [11,12,13,14]]?\n",
        "`💡Ishora` stride_tricks.as_strided"
      ],
      "metadata": {
        "id": "cNuKR_JmgNCb"
      }
    },
    {
      "cell_type": "code",
      "source": [
        "a = np.array([1,2,3,4,5,6,7,8,9,10,11,12,13,14])\n",
        "itemsize = a.strides[0]\n",
        "itemsize\n",
        "b = np.lib.stride_tricks.as_strided(a,shape=(11,4),strides=(8,8))\n",
        "b"
      ],
      "metadata": {
        "colab": {
          "base_uri": "https://localhost:8080/"
        },
        "id": "6tWnfJhAOl9B",
        "outputId": "5511d77b-4c53-485a-c19b-58d20f9ebb78"
      },
      "execution_count": null,
      "outputs": [
        {
          "output_type": "execute_result",
          "data": {
            "text/plain": [
              "array([[ 1,  2,  3,  4],\n",
              "       [ 2,  3,  4,  5],\n",
              "       [ 3,  4,  5,  6],\n",
              "       [ 4,  5,  6,  7],\n",
              "       [ 5,  6,  7,  8],\n",
              "       [ 6,  7,  8,  9],\n",
              "       [ 7,  8,  9, 10],\n",
              "       [ 8,  9, 10, 11],\n",
              "       [ 9, 10, 11, 12],\n",
              "       [10, 11, 12, 13],\n",
              "       [11, 12, 13, 14]])"
            ]
          },
          "metadata": {},
          "execution_count": 6
        }
      ]
    },
    {
      "cell_type": "markdown",
      "source": [
        "#### 31. Ixtiyoriy sonlardan tashkil topgan massiv yarating, unga o'xshash qiymatlar kiriting. So'ng, o'xshash qiymatlarni topuvchi dastur tuzing.\n"
      ],
      "metadata": {
        "id": "QpxJTTXDgHK8"
      }
    },
    {
      "cell_type": "code",
      "source": [
        "import numpy as np\n",
        "# Author is GPT\n",
        "# Ixtiyoriy sonlardan tashkil topgan massiv yaratish\n",
        "a = np.array([3, 1, 2, 3, 4, 2, 5, 3, 2, 5, 2, 4, 1, 3, 4, 5, 3])\n",
        "\n",
        "# Har bir qiymatning chastotasini hisoblash\n",
        "counts = np.bincount(a)\n",
        "\n",
        "# Eng ko'p uchraydigan qiymatni topish\n",
        "most_frequent_value = np.argmax(counts)\n",
        "\n",
        "print(\"Massiv:\", a)\n",
        "print(\"Har bir qiymatning chastotasi:\", counts)\n",
        "print(\"Eng ko'p uchraydigan qiymat:\", most_frequent_value)\n"
      ],
      "metadata": {
        "colab": {
          "base_uri": "https://localhost:8080/"
        },
        "id": "H-2OjZ9iiPD6",
        "outputId": "7062c7af-bba8-472c-b448-d7cfd4fa391b"
      },
      "execution_count": null,
      "outputs": [
        {
          "output_type": "stream",
          "name": "stdout",
          "text": [
            "Massiv: [3 1 2 3 4 2 5 3 2 5 2 4 1 3 4 5 3]\n",
            "Har bir qiymatning chastotasi: [0 2 4 5 3 3]\n",
            "Eng ko'p uchraydigan qiymat: 3\n"
          ]
        }
      ]
    }
  ]
}